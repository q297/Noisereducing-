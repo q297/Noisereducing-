{
 "cells": [
  {
   "metadata": {
    "ExecuteTime": {
     "end_time": "2025-02-26T07:20:51.143055Z",
     "start_time": "2025-02-26T07:20:51.139696Z"
    }
   },
   "cell_type": "code",
   "source": [
    "from pathlib import Path\n",
    "\n",
    "FOLDER_WITH_WAV = \"../recordings\"\n",
    "FOLDER_TO_SAVE_WAV = \"../results\"\n",
    "\n",
    "folder = Path(FOLDER_WITH_WAV).resolve()\n",
    "folder_to_save = Path(FOLDER_TO_SAVE_WAV).resolve()\n",
    "folder_to_save.mkdir(parents=True, exist_ok=True)\n",
    "files = [str(f.resolve()) for f in folder.iterdir()]\n",
    "print(folder_to_save)\n",
    "print(files[0])"
   ],
   "id": "69fe5fc16b3cbb07",
   "outputs": [
    {
     "name": "stdout",
     "output_type": "stream",
     "text": [
      "/home/goyda/PycharmProjects/Noisereducing-/results\n",
      "/home/goyda/PycharmProjects/Noisereducing-/recordings/шум1.wav\n"
     ]
    }
   ],
   "execution_count": 12
  },
  {
   "metadata": {
    "collapsed": true,
    "ExecuteTime": {
     "end_time": "2025-02-26T07:22:01.129640Z",
     "start_time": "2025-02-26T07:21:57.765384Z"
    }
   },
   "cell_type": "code",
   "source": [
    "import librosa\n",
    "import noisereduce as nr\n",
    "import soundfile as sf\n",
    "for file in files:\n",
    "    y, sr = librosa.load(file, sr=None)\n",
    "    reduced_noise = nr.reduce_noise(y=y, sr=sr)\n",
    "    file_name = Path(file).name\n",
    "    output_path = folder_to_save / file_name\n",
    "    sf.write(output_path, reduced_noise, sr)\n",
    "    print(f\"Файл \\\"{file_name}\\\" успешно обработан и сохранён в {output_path}\")"
   ],
   "id": "initial_id",
   "outputs": [
    {
     "name": "stdout",
     "output_type": "stream",
     "text": [
      "Файл \"шум1.wav\" успешно обработан и сохранён в /home/goyda/PycharmProjects/Noisereducing-/results/шум1.wav\n",
      "Файл \"ГПО 1.wav\" успешно обработан и сохранён в /home/goyda/PycharmProjects/Noisereducing-/results/ГПО 1.wav\n",
      "Файл \"ГПО 2.wav\" успешно обработан и сохранён в /home/goyda/PycharmProjects/Noisereducing-/results/ГПО 2.wav\n",
      "Файл \"ГПО 3.wav\" успешно обработан и сохранён в /home/goyda/PycharmProjects/Noisereducing-/results/ГПО 3.wav\n",
      "Файл \"ГПО 4.wav\" успешно обработан и сохранён в /home/goyda/PycharmProjects/Noisereducing-/results/ГПО 4.wav\n",
      "Файл \"ГПО 5.wav\" успешно обработан и сохранён в /home/goyda/PycharmProjects/Noisereducing-/results/ГПО 5.wav\n",
      "Файл \"ГПО 6.wav\" успешно обработан и сохранён в /home/goyda/PycharmProjects/Noisereducing-/results/ГПО 6.wav\n",
      "Файл \"ГПО 7.wav\" успешно обработан и сохранён в /home/goyda/PycharmProjects/Noisereducing-/results/ГПО 7.wav\n",
      "Файл \"запись.wav\" успешно обработан и сохранён в /home/goyda/PycharmProjects/Noisereducing-/results/запись.wav\n",
      "Файл \"2025-02-21 15.17.49.wav\" успешно обработан и сохранён в /home/goyda/PycharmProjects/Noisereducing-/results/2025-02-21 15.17.49.wav\n",
      "Файл \"2025-02-21 15.18.30.wav\" успешно обработан и сохранён в /home/goyda/PycharmProjects/Noisereducing-/results/2025-02-21 15.18.30.wav\n",
      "Файл \"2025-02-21 18.28.01.wav\" успешно обработан и сохранён в /home/goyda/PycharmProjects/Noisereducing-/results/2025-02-21 18.28.01.wav\n",
      "Файл \"2025-02-22 14.17.17.wav\" успешно обработан и сохранён в /home/goyda/PycharmProjects/Noisereducing-/results/2025-02-22 14.17.17.wav\n",
      "Файл \"2025-02-22 16.10.42.wav\" успешно обработан и сохранён в /home/goyda/PycharmProjects/Noisereducing-/results/2025-02-22 16.10.42.wav\n",
      "Файл \"2025-02-23 18.11.09.wav\" успешно обработан и сохранён в /home/goyda/PycharmProjects/Noisereducing-/results/2025-02-23 18.11.09.wav\n",
      "Файл \"2025-02-23 18.13.51.wav\" успешно обработан и сохранён в /home/goyda/PycharmProjects/Noisereducing-/results/2025-02-23 18.13.51.wav\n",
      "Файл \"2025-02-24 17.54.25.wav\" успешно обработан и сохранён в /home/goyda/PycharmProjects/Noisereducing-/results/2025-02-24 17.54.25.wav\n",
      "Файл \"2025-02-24 18.00.38.wav\" успешно обработан и сохранён в /home/goyda/PycharmProjects/Noisereducing-/results/2025-02-24 18.00.38.wav\n",
      "Файл \"2025-02-24 18.07.44.wav\" успешно обработан и сохранён в /home/goyda/PycharmProjects/Noisereducing-/results/2025-02-24 18.07.44.wav\n",
      "Файл \"2025-02-24 18.36.40.wav\" успешно обработан и сохранён в /home/goyda/PycharmProjects/Noisereducing-/results/2025-02-24 18.36.40.wav\n",
      "Файл \"2025-02-24 19.36.50.wav\" успешно обработан и сохранён в /home/goyda/PycharmProjects/Noisereducing-/results/2025-02-24 19.36.50.wav\n",
      "Файл \"2025-02-24 21.04.54.wav\" успешно обработан и сохранён в /home/goyda/PycharmProjects/Noisereducing-/results/2025-02-24 21.04.54.wav\n",
      "Файл \"2025-02-24 21.05.45.wav\" успешно обработан и сохранён в /home/goyda/PycharmProjects/Noisereducing-/results/2025-02-24 21.05.45.wav\n",
      "Файл \"2025-02-24 21.10.04.wav\" успешно обработан и сохранён в /home/goyda/PycharmProjects/Noisereducing-/results/2025-02-24 21.10.04.wav\n",
      "Файл \"Стандартная запись 3.wav\" успешно обработан и сохранён в /home/goyda/PycharmProjects/Noisereducing-/results/Стандартная запись 3.wav\n"
     ]
    }
   ],
   "execution_count": 13
  }
 ],
 "metadata": {
  "kernelspec": {
   "display_name": "Python 3",
   "language": "python",
   "name": "python3"
  },
  "language_info": {
   "codemirror_mode": {
    "name": "ipython",
    "version": 2
   },
   "file_extension": ".py",
   "mimetype": "text/x-python",
   "name": "python",
   "nbconvert_exporter": "python",
   "pygments_lexer": "ipython2",
   "version": "2.7.6"
  }
 },
 "nbformat": 4,
 "nbformat_minor": 5
}
